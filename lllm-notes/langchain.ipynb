{
 "cells": [
  {
   "cell_type": "markdown",
   "metadata": {},
   "source": [
    "# Langchain Notes\n",
    "\n"
   ]
  },
  {
   "cell_type": "markdown",
   "metadata": {},
   "source": [
    "## Model I/O\n",
    "\n",
    "Two types of models: *ChatModels* and *LLMs*\n",
    "\n",
    "**Chat Models**\n",
    "- Often backed by LLMs but tuned specifically for having conversations\n",
    "\n",
    "**LLMs**\n",
    "- Pure text completion models\n",
    "\n",
    "\n",
    "**Output parsers**\n",
    "- convert raw output from language model into readable format for downstream usage\n",
    "- ex. convert LLM text to structured info (JSON)\n",
    "- Convert `ChatMessage` into a string\n",
    "\n",
    "**Composing with LCEL**\n",
    "- Chain will: \n",
    "1. Take input variables\n",
    "2. Pass those to a prompt template\n",
    "3. Create prompt template\n",
    "4. Pass prompt to language model\n",
    "5. Pass output through output parser (optional)"
   ]
  },
  {
   "cell_type": "markdown",
   "metadata": {},
   "source": [
    "### Chat Models\n",
    "\n",
    "Message Types\n",
    "- Messages contain a *role* and *content* property\n",
    "- *role* describes WHO is saying the message\n",
    "- *content* describes the content of the message\n",
    "  - This can be a string\n",
    "  - This can also be a list of dictionaries (used for multi modal)\n",
    "\n",
    "Streaming\n",
    "- The process of generating and processing data i real-time\n",
    "- Relevant for tasks that require immediate responses and/or continuous data handling\n",
    "\n",
    "Tools\n",
    "- These can be called from a model\n",
    "- The model comes up with arguments to a tool\n",
    "- It is up to the system or user to invoke the tool though\n",
    "Using tools:\n",
    "1. Chains lets you create a pre-defined sequence \n",
    "2. Agents let the model use the tools in a loop (it decides what and how many times to use a tool)\n",
    "\n",
    "Structured Output\n",
    "- Used for prompting, function calling, tool calling\n",
    "- JSON mode: guaranteed to return JSON\n"
   ]
  },
  {
   "cell_type": "markdown",
   "metadata": {},
   "source": [
    "## Retrieval\n",
    "[link to LangChain page](https://python.langchain.com/v0.1/docs/modules/data_connection/)\n",
    "\n",
    "\n",
    "Applying user-specific data that can't be found in LLM"
   ]
  },
  {
   "cell_type": "markdown",
   "metadata": {},
   "source": [
    "### Document loaders\n",
    "- Load from different sources\n",
    "\n",
    "### Text splitting\n",
    "- Split larger documents into smaller text chunks\n",
    "- Keep chunks semantically related \n",
    "1. Split text into small, semantically meaningful chunks\n",
    "2. Start combining small chunks into larger chunks until reached certain size\n",
    "3. Once size reached, make chunk its own piece of text start creating new chunk of text with overlap to keep context\n",
    "\n",
    "- You identify how to split the text\n",
    "- And also the size\n",
    "\n",
    "[view splitters here](https://python.langchain.com/v0.1/docs/modules/data_connection/document_transformers/)\n",
    "\n",
    "\n",
    "### Embedding Models\n",
    "- Designed to interface with embedding models\n",
    "- Embeddings create vector representation of a piece of text\n",
    "- Think about text in vector space\n",
    "\n",
    "\n",
    "### Vector Stores\n",
    "- Common way to store and search over unstructured data\n",
    "- Embed query and find relation in space\n",
    "\n",
    "\n",
    "### Retrievers\n",
    "- Returns documents given an unstructured query\n",
    "- Doesn't need to store documents, just retrieve them\n",
    "- Vector stores are used as backbone of retriever\n",
    "\n",
    "- Accept string *query* and returns list of *documents*\n",
    "\n",
    "\n",
    "### Indexing\n",
    "- Load and keep in sync documents into vector stores\n",
    "- Helps with: \n",
    "  - Avoiding duplicating content\n",
    "  - Avoiding re-writing unchanged content\n",
    "  - Avoiding re-computing embeddings over unchanged content\n",
    "\n",
    "Makes use of a `RecordManager` that keeps track of documents written into vector store\n"
   ]
  }
 ],
 "metadata": {
  "language_info": {
   "name": "python"
  }
 },
 "nbformat": 4,
 "nbformat_minor": 2
}
