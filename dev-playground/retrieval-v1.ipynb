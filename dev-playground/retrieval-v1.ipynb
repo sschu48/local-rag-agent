{
 "cells": [
  {
   "cell_type": "markdown",
   "metadata": {},
   "source": [
    "# Building Accurate Retrieval Method\n",
    "\n",
    "LLM is pulling context from vector db. This allows the "
   ]
  },
  {
   "cell_type": "markdown",
   "metadata": {},
   "source": [
    "Document Loader\n",
    "\n",
    "load documents from list of filepaths\n",
    "get metadata from each pdf for more context"
   ]
  },
  {
   "cell_type": "code",
   "execution_count": 1,
   "metadata": {},
   "outputs": [],
   "source": [
    "# Get PDF files\n",
    "import os\n",
    "import requests\n",
    "\n",
    "list_of_pdf_docs = [\n",
    "    \"https://www.faa.gov/sites/faa.gov/files/regulations_policies/handbooks_manuals/aviation/airplane_handbook/00_afh_full.pdf\",\n",
    "    \"https://www.faa.gov/sites/faa.gov/files/regulations_policies/handbooks_manuals/aviation/FAA-H-8083-15B.pdf\",\n",
    "    \"https://www.faa.gov/regulations_policies/handbooks_manuals/aviation/faa-h-8083-25c.pdf\",\n",
    "    \"https://www.faa.gov/sites/faa.gov/files/2022-06/risk_management_handbook_2A.pdf\",\n",
    "    \"https://www.faa.gov/sites/faa.gov/files/regulations_policies/handbooks_manuals/aviation/FAA-H-8083-1.pdf\",\n",
    "]"
   ]
  },
  {
   "cell_type": "code",
   "execution_count": null,
   "metadata": {},
   "outputs": [],
   "source": [
    "### Document Loader\n",
    "\n",
    "from langchain_community.document_loaders import PyMuPDFLoader\n",
    "\n"
   ]
  }
 ],
 "metadata": {
  "kernelspec": {
   "display_name": "llama-rag",
   "language": "python",
   "name": "python3"
  },
  "language_info": {
   "codemirror_mode": {
    "name": "ipython",
    "version": 3
   },
   "file_extension": ".py",
   "mimetype": "text/x-python",
   "name": "python",
   "nbconvert_exporter": "python",
   "pygments_lexer": "ipython3",
   "version": "3.10.14"
  }
 },
 "nbformat": 4,
 "nbformat_minor": 2
}
