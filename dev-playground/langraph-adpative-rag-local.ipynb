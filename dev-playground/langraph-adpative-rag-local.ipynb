{
 "cells": [
  {
   "cell_type": "markdown",
   "metadata": {},
   "source": [
    "# Adaptive RAG -- With local LLMs\n",
    "\n",
    "[link to repo](https://github.com/langchain-ai/langgraph/blob/main/examples/rag/langgraph_adaptive_rag_local.ipynb)"
   ]
  },
  {
   "cell_type": "markdown",
   "metadata": {},
   "source": [
    "### LLMs\n",
    "**Local Embeddings**\n",
    "\n",
    "Using `GPT4AllEmbeddings()` from Nomic\n",
    "\n",
    "\n",
    "\n",
    "**Local LLM**\n",
    "\n",
    "Using `llama3`"
   ]
  },
  {
   "cell_type": "code",
   "execution_count": 1,
   "metadata": {},
   "outputs": [],
   "source": [
    "# llama 3 model\n",
    "local_llm = \"llama3\""
   ]
  },
  {
   "cell_type": "markdown",
   "metadata": {},
   "source": [
    "### Index\n",
    "\n",
    "Documents will be loaded from multiple sources:\n",
    "- JSON file\n",
    "- HTML sites\n",
    "- PDF files\n",
    "- more...\n",
    "\n",
    "Each of these will be loaded through a document loader. Once loaded they will be embedded."
   ]
  },
  {
   "cell_type": "code",
   "execution_count": 10,
   "metadata": {},
   "outputs": [
    {
     "ename": "ImportError",
     "evalue": "cannot import name 'LangSmithParams' from 'langchain_core.language_models.chat_models' (/Users/seanschumacher/opt/miniconda3/envs/llama-rag/lib/python3.10/site-packages/langchain_core/language_models/chat_models.py)",
     "output_type": "error",
     "traceback": [
      "\u001b[0;31m---------------------------------------------------------------------------\u001b[0m",
      "\u001b[0;31mImportError\u001b[0m                               Traceback (most recent call last)",
      "Cell \u001b[0;32mIn[10], line 4\u001b[0m\n\u001b[1;32m      2\u001b[0m \u001b[38;5;28;01mfrom\u001b[39;00m \u001b[38;5;21;01mlangchain_community\u001b[39;00m\u001b[38;5;21;01m.\u001b[39;00m\u001b[38;5;21;01mdocument_loaders\u001b[39;00m \u001b[38;5;28;01mimport\u001b[39;00m WebBaseLoader\n\u001b[1;32m      3\u001b[0m \u001b[38;5;28;01mfrom\u001b[39;00m \u001b[38;5;21;01mlangchain_community\u001b[39;00m\u001b[38;5;21;01m.\u001b[39;00m\u001b[38;5;21;01mvectorstores\u001b[39;00m \u001b[38;5;28;01mimport\u001b[39;00m Chroma\n\u001b[0;32m----> 4\u001b[0m \u001b[38;5;28;01mfrom\u001b[39;00m \u001b[38;5;21;01mlangchain_openai\u001b[39;00m \u001b[38;5;28;01mimport\u001b[39;00m OpenAIEmbeddings\n",
      "File \u001b[0;32m~/opt/miniconda3/envs/llama-rag/lib/python3.10/site-packages/langchain_openai/__init__.py:1\u001b[0m\n\u001b[0;32m----> 1\u001b[0m \u001b[38;5;28;01mfrom\u001b[39;00m \u001b[38;5;21;01mlangchain_openai\u001b[39;00m\u001b[38;5;21;01m.\u001b[39;00m\u001b[38;5;21;01mchat_models\u001b[39;00m \u001b[38;5;28;01mimport\u001b[39;00m (\n\u001b[1;32m      2\u001b[0m     AzureChatOpenAI,\n\u001b[1;32m      3\u001b[0m     ChatOpenAI,\n\u001b[1;32m      4\u001b[0m )\n\u001b[1;32m      5\u001b[0m \u001b[38;5;28;01mfrom\u001b[39;00m \u001b[38;5;21;01mlangchain_openai\u001b[39;00m\u001b[38;5;21;01m.\u001b[39;00m\u001b[38;5;21;01membeddings\u001b[39;00m \u001b[38;5;28;01mimport\u001b[39;00m (\n\u001b[1;32m      6\u001b[0m     AzureOpenAIEmbeddings,\n\u001b[1;32m      7\u001b[0m     OpenAIEmbeddings,\n\u001b[1;32m      8\u001b[0m )\n\u001b[1;32m      9\u001b[0m \u001b[38;5;28;01mfrom\u001b[39;00m \u001b[38;5;21;01mlangchain_openai\u001b[39;00m\u001b[38;5;21;01m.\u001b[39;00m\u001b[38;5;21;01mllms\u001b[39;00m \u001b[38;5;28;01mimport\u001b[39;00m AzureOpenAI, OpenAI\n",
      "File \u001b[0;32m~/opt/miniconda3/envs/llama-rag/lib/python3.10/site-packages/langchain_openai/chat_models/__init__.py:1\u001b[0m\n\u001b[0;32m----> 1\u001b[0m \u001b[38;5;28;01mfrom\u001b[39;00m \u001b[38;5;21;01mlangchain_openai\u001b[39;00m\u001b[38;5;21;01m.\u001b[39;00m\u001b[38;5;21;01mchat_models\u001b[39;00m\u001b[38;5;21;01m.\u001b[39;00m\u001b[38;5;21;01mazure\u001b[39;00m \u001b[38;5;28;01mimport\u001b[39;00m AzureChatOpenAI\n\u001b[1;32m      2\u001b[0m \u001b[38;5;28;01mfrom\u001b[39;00m \u001b[38;5;21;01mlangchain_openai\u001b[39;00m\u001b[38;5;21;01m.\u001b[39;00m\u001b[38;5;21;01mchat_models\u001b[39;00m\u001b[38;5;21;01m.\u001b[39;00m\u001b[38;5;21;01mbase\u001b[39;00m \u001b[38;5;28;01mimport\u001b[39;00m ChatOpenAI\n\u001b[1;32m      4\u001b[0m __all__ \u001b[38;5;241m=\u001b[39m [\n\u001b[1;32m      5\u001b[0m     \u001b[38;5;124m\"\u001b[39m\u001b[38;5;124mChatOpenAI\u001b[39m\u001b[38;5;124m\"\u001b[39m,\n\u001b[1;32m      6\u001b[0m     \u001b[38;5;124m\"\u001b[39m\u001b[38;5;124mAzureChatOpenAI\u001b[39m\u001b[38;5;124m\"\u001b[39m,\n\u001b[1;32m      7\u001b[0m ]\n",
      "File \u001b[0;32m~/opt/miniconda3/envs/llama-rag/lib/python3.10/site-packages/langchain_openai/chat_models/azure.py:9\u001b[0m\n\u001b[1;32m      6\u001b[0m \u001b[38;5;28;01mfrom\u001b[39;00m \u001b[38;5;21;01mtyping\u001b[39;00m \u001b[38;5;28;01mimport\u001b[39;00m Any, Callable, Dict, List, Optional, Union\n\u001b[1;32m      8\u001b[0m \u001b[38;5;28;01mimport\u001b[39;00m \u001b[38;5;21;01mopenai\u001b[39;00m\n\u001b[0;32m----> 9\u001b[0m \u001b[38;5;28;01mfrom\u001b[39;00m \u001b[38;5;21;01mlangchain_core\u001b[39;00m\u001b[38;5;21;01m.\u001b[39;00m\u001b[38;5;21;01mlanguage_models\u001b[39;00m\u001b[38;5;21;01m.\u001b[39;00m\u001b[38;5;21;01mchat_models\u001b[39;00m \u001b[38;5;28;01mimport\u001b[39;00m LangSmithParams\n\u001b[1;32m     10\u001b[0m \u001b[38;5;28;01mfrom\u001b[39;00m \u001b[38;5;21;01mlangchain_core\u001b[39;00m\u001b[38;5;21;01m.\u001b[39;00m\u001b[38;5;21;01moutputs\u001b[39;00m \u001b[38;5;28;01mimport\u001b[39;00m ChatResult\n\u001b[1;32m     11\u001b[0m \u001b[38;5;28;01mfrom\u001b[39;00m \u001b[38;5;21;01mlangchain_core\u001b[39;00m\u001b[38;5;21;01m.\u001b[39;00m\u001b[38;5;21;01mpydantic_v1\u001b[39;00m \u001b[38;5;28;01mimport\u001b[39;00m Field, SecretStr, root_validator\n",
      "\u001b[0;31mImportError\u001b[0m: cannot import name 'LangSmithParams' from 'langchain_core.language_models.chat_models' (/Users/seanschumacher/opt/miniconda3/envs/llama-rag/lib/python3.10/site-packages/langchain_core/language_models/chat_models.py)"
     ]
    }
   ],
   "source": [
    "from langchain.text_splitter import RecursiveCharacterTextSplitter\n",
    "from langchain_community.document_loaders import WebBaseLoader\n",
    "from langchain_community.vectorstores import Chroma\n",
    "from langchain_openai import OpenAIEmbeddings"
   ]
  },
  {
   "cell_type": "markdown",
   "metadata": {},
   "source": [
    "Lets load all of the documents from AIM"
   ]
  },
  {
   "cell_type": "markdown",
   "metadata": {},
   "source": []
  },
  {
   "cell_type": "code",
   "execution_count": 3,
   "metadata": {},
   "outputs": [],
   "source": [
    "import requests \n",
    "from bs4 import BeautifulSoup\n",
    "import re"
   ]
  },
  {
   "cell_type": "code",
   "execution_count": 6,
   "metadata": {},
   "outputs": [
    {
     "data": {
      "text/plain": [
       "True"
      ]
     },
     "execution_count": 6,
     "metadata": {},
     "output_type": "execute_result"
    }
   ],
   "source": [
    "# dotenv\n",
    "import dotenv\n",
    "dotenv.load_dotenv()"
   ]
  },
  {
   "cell_type": "code",
   "execution_count": 4,
   "metadata": {},
   "outputs": [
    {
     "data": {
      "text/plain": [
       "{'https://www.faa.gov/air_traffic/publications/atpubs/aim_html/./appendix_1.html',\n",
       " 'https://www.faa.gov/air_traffic/publications/atpubs/aim_html/./appendix_2.html',\n",
       " 'https://www.faa.gov/air_traffic/publications/atpubs/aim_html/./appendix_3.html',\n",
       " 'https://www.faa.gov/air_traffic/publications/atpubs/aim_html/./appendix_4.html',\n",
       " 'https://www.faa.gov/air_traffic/publications/atpubs/aim_html/./appendix_5.html',\n",
       " 'https://www.faa.gov/air_traffic/publications/atpubs/aim_html/./chap0_cfr.html',\n",
       " 'https://www.faa.gov/air_traffic/publications/atpubs/aim_html/./chap0_chap0_policy.html',\n",
       " 'https://www.faa.gov/air_traffic/publications/atpubs/aim_html/./chap0_faa_desc.html',\n",
       " 'https://www.faa.gov/air_traffic/publications/atpubs/aim_html/./chap0_info_eoc.html',\n",
       " 'https://www.faa.gov/air_traffic/publications/atpubs/aim_html/./chap0_subscription_info.html',\n",
       " 'https://www.faa.gov/air_traffic/publications/atpubs/aim_html/./chap10_section_1.html',\n",
       " 'https://www.faa.gov/air_traffic/publications/atpubs/aim_html/./chap10_section_2.html',\n",
       " 'https://www.faa.gov/air_traffic/publications/atpubs/aim_html/./chap11_section_1.html',\n",
       " 'https://www.faa.gov/air_traffic/publications/atpubs/aim_html/./chap11_section_2.html',\n",
       " 'https://www.faa.gov/air_traffic/publications/atpubs/aim_html/./chap11_section_3.html',\n",
       " 'https://www.faa.gov/air_traffic/publications/atpubs/aim_html/./chap11_section_4.html',\n",
       " 'https://www.faa.gov/air_traffic/publications/atpubs/aim_html/./chap11_section_5.html',\n",
       " 'https://www.faa.gov/air_traffic/publications/atpubs/aim_html/./chap11_section_6.html',\n",
       " 'https://www.faa.gov/air_traffic/publications/atpubs/aim_html/./chap11_section_7.html',\n",
       " 'https://www.faa.gov/air_traffic/publications/atpubs/aim_html/./chap11_section_8.html',\n",
       " 'https://www.faa.gov/air_traffic/publications/atpubs/aim_html/./chap1_section_1.html',\n",
       " 'https://www.faa.gov/air_traffic/publications/atpubs/aim_html/./chap1_section_2.html',\n",
       " 'https://www.faa.gov/air_traffic/publications/atpubs/aim_html/./chap2_section_1.html',\n",
       " 'https://www.faa.gov/air_traffic/publications/atpubs/aim_html/./chap2_section_2.html',\n",
       " 'https://www.faa.gov/air_traffic/publications/atpubs/aim_html/./chap2_section_3.html',\n",
       " 'https://www.faa.gov/air_traffic/publications/atpubs/aim_html/./chap3_section_1.html',\n",
       " 'https://www.faa.gov/air_traffic/publications/atpubs/aim_html/./chap3_section_2.html',\n",
       " 'https://www.faa.gov/air_traffic/publications/atpubs/aim_html/./chap3_section_3.html',\n",
       " 'https://www.faa.gov/air_traffic/publications/atpubs/aim_html/./chap3_section_4.html',\n",
       " 'https://www.faa.gov/air_traffic/publications/atpubs/aim_html/./chap3_section_5.html',\n",
       " 'https://www.faa.gov/air_traffic/publications/atpubs/aim_html/./chap4_section_1.html',\n",
       " 'https://www.faa.gov/air_traffic/publications/atpubs/aim_html/./chap4_section_2.html',\n",
       " 'https://www.faa.gov/air_traffic/publications/atpubs/aim_html/./chap4_section_3.html',\n",
       " 'https://www.faa.gov/air_traffic/publications/atpubs/aim_html/./chap4_section_4.html',\n",
       " 'https://www.faa.gov/air_traffic/publications/atpubs/aim_html/./chap4_section_5.html',\n",
       " 'https://www.faa.gov/air_traffic/publications/atpubs/aim_html/./chap4_section_6.html',\n",
       " 'https://www.faa.gov/air_traffic/publications/atpubs/aim_html/./chap4_section_7.html',\n",
       " 'https://www.faa.gov/air_traffic/publications/atpubs/aim_html/./chap5_section_1.html',\n",
       " 'https://www.faa.gov/air_traffic/publications/atpubs/aim_html/./chap5_section_2.html',\n",
       " 'https://www.faa.gov/air_traffic/publications/atpubs/aim_html/./chap5_section_3.html',\n",
       " 'https://www.faa.gov/air_traffic/publications/atpubs/aim_html/./chap5_section_4.html',\n",
       " 'https://www.faa.gov/air_traffic/publications/atpubs/aim_html/./chap5_section_5.html',\n",
       " 'https://www.faa.gov/air_traffic/publications/atpubs/aim_html/./chap5_section_6.html',\n",
       " 'https://www.faa.gov/air_traffic/publications/atpubs/aim_html/./chap6_section_1.html',\n",
       " 'https://www.faa.gov/air_traffic/publications/atpubs/aim_html/./chap6_section_2.html',\n",
       " 'https://www.faa.gov/air_traffic/publications/atpubs/aim_html/./chap6_section_3.html',\n",
       " 'https://www.faa.gov/air_traffic/publications/atpubs/aim_html/./chap6_section_4.html',\n",
       " 'https://www.faa.gov/air_traffic/publications/atpubs/aim_html/./chap6_section_5.html',\n",
       " 'https://www.faa.gov/air_traffic/publications/atpubs/aim_html/./chap7_section_1.html',\n",
       " 'https://www.faa.gov/air_traffic/publications/atpubs/aim_html/./chap7_section_2.html',\n",
       " 'https://www.faa.gov/air_traffic/publications/atpubs/aim_html/./chap7_section_3.html',\n",
       " 'https://www.faa.gov/air_traffic/publications/atpubs/aim_html/./chap7_section_4.html',\n",
       " 'https://www.faa.gov/air_traffic/publications/atpubs/aim_html/./chap7_section_5.html',\n",
       " 'https://www.faa.gov/air_traffic/publications/atpubs/aim_html/./chap7_section_6.html',\n",
       " 'https://www.faa.gov/air_traffic/publications/atpubs/aim_html/./chap7_section_7.html',\n",
       " 'https://www.faa.gov/air_traffic/publications/atpubs/aim_html/./chap8_section_1.html',\n",
       " 'https://www.faa.gov/air_traffic/publications/atpubs/aim_html/./chap9_section_1.html',\n",
       " 'https://www.faa.gov/air_traffic/publications/atpubs/aim_html/./chap_.html',\n",
       " 'https://www.faa.gov/air_traffic/publications/atpubs/aim_html/./chap_0.html',\n",
       " 'https://www.faa.gov/air_traffic/publications/atpubs/aim_html/./chap_1.html',\n",
       " 'https://www.faa.gov/air_traffic/publications/atpubs/aim_html/./chap_10.html',\n",
       " 'https://www.faa.gov/air_traffic/publications/atpubs/aim_html/./chap_11.html',\n",
       " 'https://www.faa.gov/air_traffic/publications/atpubs/aim_html/./chap_2.html',\n",
       " 'https://www.faa.gov/air_traffic/publications/atpubs/aim_html/./chap_3.html',\n",
       " 'https://www.faa.gov/air_traffic/publications/atpubs/aim_html/./chap_4.html',\n",
       " 'https://www.faa.gov/air_traffic/publications/atpubs/aim_html/./chap_5.html',\n",
       " 'https://www.faa.gov/air_traffic/publications/atpubs/aim_html/./chap_6.html',\n",
       " 'https://www.faa.gov/air_traffic/publications/atpubs/aim_html/./chap_7.html',\n",
       " 'https://www.faa.gov/air_traffic/publications/atpubs/aim_html/./chap_8.html',\n",
       " 'https://www.faa.gov/air_traffic/publications/atpubs/aim_html/./chap_9.html'}"
      ]
     },
     "execution_count": 4,
     "metadata": {},
     "output_type": "execute_result"
    }
   ],
   "source": [
    "base_url = \"https://www.faa.gov/air_traffic/publications/atpubs/aim_html/\"\n",
    "\n",
    "response = requests.get(base_url)\n",
    "soup = BeautifulSoup(response.content, \"html.parser\")\n",
    "\n",
    "links = soup.find_all('a', href=True)\n",
    "subpages = set()\n",
    "\n",
    "for link in links:\n",
    "        href = link['href']\n",
    "        if re.search(r'(chap|appendix)', href, re.IGNORECASE):  # Adjust regex to match 'chapter' or 'appendix'\n",
    "                full_url = f\"{base_url.rstrip('/')}/{href.lstrip('/')}\"\n",
    "                subpages.add(full_url)\n",
    "\n",
    "subpages\n"
   ]
  },
  {
   "cell_type": "code",
   "execution_count": 5,
   "metadata": {},
   "outputs": [],
   "source": [
    "docs = [WebBaseLoader(url).load() for url in subpages]\n",
    "docs_list = [item for sublist in docs for item in sublist]"
   ]
  },
  {
   "cell_type": "code",
   "execution_count": 7,
   "metadata": {},
   "outputs": [],
   "source": [
    "text_splitter = RecursiveCharacterTextSplitter.from_tiktoken_encoder(\n",
    "    chunk_size=500, chunk_overlap=0\n",
    ")\n",
    "doc_splits = text_splitter.split_documents(docs_list)"
   ]
  },
  {
   "cell_type": "code",
   "execution_count": 3,
   "metadata": {},
   "outputs": [
    {
     "ename": "NameError",
     "evalue": "name 'Chroma' is not defined",
     "output_type": "error",
     "traceback": [
      "\u001b[0;31m---------------------------------------------------------------------------\u001b[0m",
      "\u001b[0;31mNameError\u001b[0m                                 Traceback (most recent call last)",
      "Cell \u001b[0;32mIn[3], line 4\u001b[0m\n\u001b[1;32m      1\u001b[0m persist_directory \u001b[38;5;241m=\u001b[39m \u001b[38;5;124m\"\u001b[39m\u001b[38;5;124m../dev-playground\u001b[39m\u001b[38;5;124m\"\u001b[39m\n\u001b[1;32m      3\u001b[0m \u001b[38;5;66;03m# create and load chroma vector store\u001b[39;00m\n\u001b[0;32m----> 4\u001b[0m vectorstore \u001b[38;5;241m=\u001b[39m \u001b[43mChroma\u001b[49m\u001b[38;5;241m.\u001b[39mfrom_documents(\n\u001b[1;32m      5\u001b[0m     documents\u001b[38;5;241m=\u001b[39mdoc_splits,\n\u001b[1;32m      6\u001b[0m     collection_name\u001b[38;5;241m=\u001b[39m\u001b[38;5;124m\"\u001b[39m\u001b[38;5;124mrag-chroma\u001b[39m\u001b[38;5;124m\"\u001b[39m,\n\u001b[1;32m      7\u001b[0m     embedding\u001b[38;5;241m=\u001b[39mGPT4AllEmbeddings(),\n\u001b[1;32m      8\u001b[0m     persist_directory\u001b[38;5;241m=\u001b[39mpersist_directory\n\u001b[1;32m      9\u001b[0m )\n\u001b[1;32m     11\u001b[0m \u001b[38;5;66;03m# persist the vector store to the directory\u001b[39;00m\n\u001b[1;32m     12\u001b[0m vectorstore\u001b[38;5;241m.\u001b[39mpersist()\n",
      "\u001b[0;31mNameError\u001b[0m: name 'Chroma' is not defined"
     ]
    }
   ],
   "source": [
    "persist_directory = \"../dev-playground\"\n",
    "\n",
    "# create and load chroma vector store\n",
    "vectorstore = Chroma.from_documents(\n",
    "    documents=doc_splits,\n",
    "    collection_name=\"rag-chroma\",\n",
    "    embedding=GPT4AllEmbeddings(),\n",
    "    persist_directory=persist_directory\n",
    ")\n",
    "\n",
    "# persist the vector store to the directory\n",
    "vectorstore.persist()\n",
    "\n",
    "retriever = vectorstore.as_retriever()"
   ]
  },
  {
   "cell_type": "markdown",
   "metadata": {},
   "source": [
    "### LLMs"
   ]
  },
  {
   "cell_type": "markdown",
   "metadata": {},
   "source": [
    "#### Router\n",
    "\n",
    "This will route the question to the necessary agent (RAG or web-search)"
   ]
  },
  {
   "cell_type": "code",
   "execution_count": 2,
   "metadata": {},
   "outputs": [
    {
     "ename": "NameError",
     "evalue": "name 'retriever' is not defined",
     "output_type": "error",
     "traceback": [
      "\u001b[0;31m---------------------------------------------------------------------------\u001b[0m",
      "\u001b[0;31mNameError\u001b[0m                                 Traceback (most recent call last)",
      "Cell \u001b[0;32mIn[2], line 25\u001b[0m\n\u001b[1;32m     21\u001b[0m question_router \u001b[38;5;241m=\u001b[39m prompt \u001b[38;5;241m|\u001b[39m llm \u001b[38;5;241m|\u001b[39m JsonOutputParser() \u001b[38;5;66;03m# this is the chain\u001b[39;00m\n\u001b[1;32m     23\u001b[0m question \u001b[38;5;241m=\u001b[39m \u001b[38;5;124m\"\u001b[39m\u001b[38;5;124minstrument approach\u001b[39m\u001b[38;5;124m\"\u001b[39m\n\u001b[0;32m---> 25\u001b[0m docs \u001b[38;5;241m=\u001b[39m \u001b[43mretriever\u001b[49m\u001b[38;5;241m.\u001b[39mget_relevant_documents(question)\n\u001b[1;32m     26\u001b[0m doc_text \u001b[38;5;241m=\u001b[39m docs[\u001b[38;5;241m1\u001b[39m]\u001b[38;5;241m.\u001b[39mpage_content\n\u001b[1;32m     27\u001b[0m \u001b[38;5;28mprint\u001b[39m(question_router\u001b[38;5;241m.\u001b[39minvoke({\u001b[38;5;124m\"\u001b[39m\u001b[38;5;124mquestion\u001b[39m\u001b[38;5;124m\"\u001b[39m: question}))\n",
      "\u001b[0;31mNameError\u001b[0m: name 'retriever' is not defined"
     ]
    }
   ],
   "source": [
    "### Router\n",
    "\n",
    "from langchain.prompts import PromptTemplate\n",
    "from langchain_community.chat_models import ChatOllama\n",
    "from langchain_core.output_parsers import JsonOutputParser\n",
    "\n",
    "### LLM for router\n",
    "llm = ChatOllama(model=local_llm, format=\"json\", temperature=0)\n",
    "\n",
    "# Prompt template instructing llm how to route questions\n",
    "prompt = PromptTemplate(\n",
    "    template=\"\"\"You are an expert at routing a user question to a vectorstore or web search. \\n\n",
    "    Use the vectorstore for questions on LLM  agents, prompt engineering, and adversarial attacks. \\n\n",
    "    You do not need to be stringent with the keywords in the question related to these topics. \\n\n",
    "    Otherwise, use web-search. Give a binary choice 'web_search' or 'vectorstore' based on the question. \\n\n",
    "    Return the a JSON with a single key 'datasource' and no premable or explanation. \\n\n",
    "    Question to route: {question}\"\"\",\n",
    "    input_variables=[\"question\"],\n",
    ")\n",
    "\n",
    "question_router = prompt | llm | JsonOutputParser() # this is the chain\n",
    "\n",
    "question = \"instrument approach\"\n",
    "\n",
    "docs = retriever.get_relevant_documents(question)\n",
    "doc_text = docs[1].page_content\n",
    "print(question_router.invoke({\"question\": question}))"
   ]
  },
  {
   "cell_type": "code",
   "execution_count": null,
   "metadata": {},
   "outputs": [],
   "source": []
  }
 ],
 "metadata": {
  "kernelspec": {
   "display_name": "llama-rag",
   "language": "python",
   "name": "python3"
  },
  "language_info": {
   "codemirror_mode": {
    "name": "ipython",
    "version": 3
   },
   "file_extension": ".py",
   "mimetype": "text/x-python",
   "name": "python",
   "nbconvert_exporter": "python",
   "pygments_lexer": "ipython3",
   "version": "3.10.14"
  }
 },
 "nbformat": 4,
 "nbformat_minor": 2
}
