{
 "cells": [
  {
   "cell_type": "code",
   "execution_count": 10,
   "metadata": {},
   "outputs": [
    {
     "name": "stdout",
     "output_type": "stream",
     "text": [
      "PDF loaded successfully\n",
      "number of pages: 58\n",
      "first page:\n",
      "U.S. Depar\n",
      "tment  \n",
      "of Transportation \n",
      "Federal Aviation  \n",
      "Administration  Advisory  \n",
      "Circular  \n",
      "Subject : Certification: Pilots and Flight and \n",
      "Ground Instructors  Date:  8/27/18  AC No:  61-65H \n",
      "Initiated by:  AFS-800 Change:  \n",
      "This advisory circular (AC) provides guidance for pilot and instructor applicants, pilots, flight \n",
      "instructors, ground instructors, and examiners on the certification standards, knowledge test procedures, and other requirements in Title 14 of the Code of Federal Regulations (14 CFR) part 61\n",
      ". \n",
      "Rick D\n",
      "omingo \n",
      "Executive Director, Flight Standards Servic e\n"
     ]
    }
   ],
   "source": [
    "from langchain_community.document_loaders import PyPDFLoader\n",
    "\n",
    "pdf_path = \"pdf-files/61-65-certifications.pdf\"\n",
    "\n",
    "try: \n",
    "    loader = PyPDFLoader(pdf_path)\n",
    "    pages = loader.load_and_split()\n",
    "\n",
    "    # check if pages are loaded\n",
    "    if pages:\n",
    "        print(\"PDF loaded successfully\")\n",
    "        print(f\"number of pages: {len(pages)}\")\n",
    "        # access first page\n",
    "        print(\"first page:\")\n",
    "        print(pages[0].page_content)\n",
    "    else:\n",
    "        print(\"no pages found in PDF\")\n",
    "except Exception as e:\n",
    "    print(f\"an error occurred. {e}\")"
   ]
  },
  {
   "cell_type": "code",
   "execution_count": null,
   "metadata": {},
   "outputs": [],
   "source": []
  },
  {
   "cell_type": "code",
   "execution_count": null,
   "metadata": {},
   "outputs": [],
   "source": []
  }
 ],
 "metadata": {
  "kernelspec": {
   "display_name": "llama-rag",
   "language": "python",
   "name": "python3"
  },
  "language_info": {
   "codemirror_mode": {
    "name": "ipython",
    "version": 3
   },
   "file_extension": ".py",
   "mimetype": "text/x-python",
   "name": "python",
   "nbconvert_exporter": "python",
   "pygments_lexer": "ipython3",
   "version": "3.10.14"
  }
 },
 "nbformat": 4,
 "nbformat_minor": 2
}
