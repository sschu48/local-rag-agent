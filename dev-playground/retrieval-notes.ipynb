{
 "cells": [
  {
   "cell_type": "markdown",
   "metadata": {},
   "source": [
    "# Notes on Augmented Retrieval\n",
    "\n",
    "As you progress through understanding the ins and outs of RAG, write out notes here to understand the various components involved. \n",
    "\n",
    "This will help you in the future so you can have a location where all of this information sits. "
   ]
  },
  {
   "cell_type": "markdown",
   "metadata": {},
   "source": [
    "## An overview of RAG\n",
    "*a lot of the notes here come from \"Retrieval-Augmented Generation for AI-Generated Content: A Survey\" add link*\n",
    "\n",
    "\n",
    "\n",
    "- RAG system consists of a retriever and generator\n",
    "- The goal is to augment the generators response with the information received from the receiver\n",
    "\n",
    "### Retriever\n",
    "- You find the \"top-k\" documents that are similar to the query provided\n",
    "\n",
    "**Key-Value Store**\n",
    "- A key is attached to information (tokens or words)\n",
    "- This key is used in similarity searches and links to the document's info\n",
    "\n",
    "**1. Sparse Retriever**\n",
    "- Interpretable method for retrieving documents\n",
    "- Inverted index: maps terms to location\n",
    "  - Data structure consisting of a dictionary of terms (words or tokens) and list of documents as its corresponding value (this is their \"location\")\n",
    "  - Fast lookups and efficient retrieval --> Good for live searching\n",
    "  \n",
    "**2. Dense Retriever**\n",
    "- Represents queries and keys using dense embedding vectors (n-dimension vector world)\n",
    "- Uses `approximate nearest neighbor (ANN)`\n",
    "> Look into BERT and ANN - \n",
    "> BERT is an embedding model that is used in DRP\n",
    "\n",
    "> Also take a look into knowledge graphs and how they can be useful"
   ]
  },
  {
   "cell_type": "markdown",
   "metadata": {},
   "source": [
    "## RAG for Knowledge\n",
    "\n",
    "- structured knowledge is very helpful in augmenting generation\n",
    "  - This utilizes the benefits of `Knowledge graphs`\n",
    "- Uses sparse retrieval, dense retrieval, and `named-entity recognition (NER)`\n",
    "\n",
    "### Knowledge Based Question Answering\n",
    "- Utilizes knowledge based to make an accurate generation\n",
    "- `SPARQL`\n",
    "- "
   ]
  }
 ],
 "metadata": {
  "language_info": {
   "name": "python"
  }
 },
 "nbformat": 4,
 "nbformat_minor": 2
}
